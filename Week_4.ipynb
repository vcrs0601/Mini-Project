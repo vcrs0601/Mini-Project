{
 "cells": [
  {
   "cell_type": "markdown",
   "id": "e0d456cb",
   "metadata": {},
   "source": [
    "# Tutorial Week 4 - Chen Rong Sheng"
   ]
  },
  {
   "cell_type": "markdown",
   "id": "4f21acc1",
   "metadata": {},
   "source": [
    "### Question1"
   ]
  },
  {
   "cell_type": "code",
   "execution_count": 6,
   "id": "a082b140",
   "metadata": {},
   "outputs": [],
   "source": [
    "import numpy as np\n",
    "import cv2 as cv\n",
    "n_pixels = 60_000\n",
    "random_array = np.random.randint(0, high=256, size=(n_pixels,), dtype=np.uint8)\n",
    "\n",
    "gray = random_array.reshape((200, -1))\n",
    "color = random_array.reshape((200, -1, 3))\n",
    "\n",
    "cv.imshow(\"gray\", gray)\n",
    "cv.imshow(\"color\", color)\n",
    "cv.waitKey(0)\n",
    "cv.destroyAllWindows()"
   ]
  },
  {
   "cell_type": "markdown",
   "id": "8778a452",
   "metadata": {},
   "source": [
    "### Question 2"
   ]
  },
  {
   "cell_type": "code",
   "execution_count": 7,
   "id": "e699efbc",
   "metadata": {},
   "outputs": [],
   "source": [
    "def crop_grid(img, num_horizontal_grid, num_vertical_grid, line_color):\n",
    "    img_copy = img.copy()\n",
    "    height, width = img.shape[:2]\n",
    "\n",
    "    M, N = int(height / num_vertical_grid), int(width / num_horizontal_grid)\n",
    "\n",
    "    x1, y1 = 0, 0\n",
    "\n",
    "    for y in range(0, height, M):\n",
    "        for x in range(0, width, N):\n",
    "\n",
    "            y1 = y + M\n",
    "            x1 = x + N\n",
    "\n",
    "            if x1>=width and y1>=height:\n",
    "                x1 = width-1\n",
    "                y1 = height-1\n",
    "                tile = img[y:height, x:width]\n",
    "                cv.rectangle(img_copy, (x,y), (x1, y1), line_color, 1)\n",
    "\n",
    "            elif y1>=height:\n",
    "                y1 = height-1\n",
    "                cv.rectangle(img_copy, (x, y), (x1, y1), line_color, 1)\n",
    "\n",
    "            elif x1>=width:\n",
    "                x1 = width-1\n",
    "                cv.rectangle(img_copy, (x, y), (x1, y1), line_color , 1)\n",
    "\n",
    "            else:\n",
    "                cv.rectangle(img_copy, (x, y), (x1, y1), line_color, 1)\n",
    "                \n",
    "    cv.imshow('image', img_copy)\n",
    "    cv.waitKey(0)\n",
    "    cv.destroyAllWindows()"
   ]
  },
  {
   "cell_type": "markdown",
   "id": "bb0efc92",
   "metadata": {},
   "source": [
    "### Question 3"
   ]
  },
  {
   "cell_type": "code",
   "execution_count": 3,
   "id": "b18f1c6c",
   "metadata": {},
   "outputs": [],
   "source": [
    "import cv2 as cv\n",
    "import numpy as np\n",
    "img1 = cv.imread('images/lena.jfif')\n",
    "img2 = cv.imread('images/coins.jfif')\n",
    "\n",
    "new_shape = img1.shape[:2]\n",
    "img2 = cv.resize(img2, new_shape)\n",
    "\n",
    "alpha_list = np.linspace(0, 1, 50)\n",
    "\n",
    "for alpha in alpha_list:\n",
    "    dst = cv.addWeighted(img1, alpha, img2, 1-alpha, 0)\n",
    "    cv.imshow('dst', dst)\n",
    "    cv.waitKey(100)\n",
    "    cv.destroyAllWindows()"
   ]
  },
  {
   "cell_type": "markdown",
   "id": "ca130747",
   "metadata": {},
   "source": [
    "### Question 4"
   ]
  },
  {
   "cell_type": "code",
   "execution_count": 4,
   "id": "3dd64651",
   "metadata": {},
   "outputs": [],
   "source": [
    "import cv2 as cv\n",
    "import numpy as np\n",
    "import matplotlib.pyplot as plt"
   ]
  },
  {
   "cell_type": "code",
   "execution_count": 6,
   "id": "3124b810",
   "metadata": {},
   "outputs": [
    {
     "data": {
      "image/png": "[encoded data removed]",
      "text/plain": [
       "<Figure size 640x480 with 1 Axes>"
      ]
     },
     "metadata": {},
     "output_type": "display_data"
    }
   ],
   "source": [
    "target = cv.imread(\"images/travel_hd.jpg\")\n",
    "src = cv.imread(\"images/watermark.png\")\n",
    "\n",
    "plt.imshow(src)\n",
    "plt.show()"
   ]
  },
  {
   "cell_type": "code",
   "execution_count": 7,
   "id": "937d58d3",
   "metadata": {},
   "outputs": [],
   "source": [
    "src = cv.resize(src, None, fx=0.7, fy=0.7)\n",
    "\n",
    "h, w = target.shape[:2]\n",
    "h_src, w_src = src.shape[:2]"
   ]
  },
  {
   "cell_type": "code",
   "execution_count": 8,
   "id": "ae917a46",
   "metadata": {},
   "outputs": [],
   "source": [
    "overlay = np.zeros((h, w, 3), dtype=np.uint8)\n",
    "\n",
    "overlay[h - h_src - 50: h - 50, 50: w_src + 50] = src"
   ]
  },
  {
   "cell_type": "code",
   "execution_count": 9,
   "id": "9eb0c065",
   "metadata": {},
   "outputs": [],
   "source": [
    "res = cv.addWeighted(overlay, 0.4, target, 1.0, 0)\n",
    "\n",
    "cv.namedWindow(\"res\", cv.WINDOW_NORMAL)\n",
    "cv.imshow(\"res\", res)\n",
    "cv.waitKey(0)\n",
    "cv.destroyAllWindows()"
   ]
  },
  {
   "cell_type": "code",
   "execution_count": null,
   "id": "14a82f9e",
   "metadata": {},
   "outputs": [],
   "source": []
  }
 ],
 "metadata": {
  "kernelspec": {
   "display_name": "Python 3 (ipykernel)",
   "language": "python",
   "name": "python3"
  },
  "language_info": {
   "codemirror_mode": {
    "name": "ipython",
    "version": 3
   },
   "file_extension": ".py",
   "mimetype": "text/x-python",
   "name": "python",
   "nbconvert_exporter": "python",
   "pygments_lexer": "ipython3",
   "version": "3.11.4"
  }
 },
 "nbformat": 4,
 "nbformat_minor": 5
}
